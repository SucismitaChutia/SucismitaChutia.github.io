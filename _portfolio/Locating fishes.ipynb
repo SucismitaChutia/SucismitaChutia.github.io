{
 "cells": [
  {
   "attachments": {},
   "cell_type": "markdown",
   "metadata": {},
   "source": [
    "# 1. Backscatter - remote sensing in the ocean\n",
    "\n",
    "Marine scientists use backscatter to understand the distribution of organisms in the ocean.\n",
    "\n",
    "In this analysis, we are going to wrangle active acoustic data and plot the mean volume backscatter associated with fish with swim-bladders in relation to bathymetry (depth of the sea floor).\n",
    "\n",
    "These acoustic data were collected from a research vessel that crossed the shelf break in the Mid-Atlantic Bight (NOAA cruise HB1103) and were preprocessed using the software, Echoview."
   ]
  },
  {
   "cell_type": "code",
   "execution_count": 60,
   "metadata": {},
   "outputs": [
    {
     "data": {
      "text/html": [
       "<table>\n",
       "<caption>A tibble: 6 × 10</caption>\n",
       "<thead>\n",
       "\t<tr><th scope=col>Ping_date</th><th scope=col>Ping_time</th><th scope=col>Ping_milliseconds</th><th scope=col>Latitude</th><th scope=col>Longitude</th><th scope=col>Position_status</th><th scope=col>Depth</th><th scope=col>Line_status</th><th scope=col>Ping_status</th><th scope=col>Altitude</th></tr>\n",
       "\t<tr><th scope=col>&lt;dttm&gt;</th><th scope=col>&lt;time&gt;</th><th scope=col>&lt;dbl&gt;</th><th scope=col>&lt;dbl&gt;</th><th scope=col>&lt;dbl&gt;</th><th scope=col>&lt;dbl&gt;</th><th scope=col>&lt;dbl&gt;</th><th scope=col>&lt;dbl&gt;</th><th scope=col>&lt;dbl&gt;</th><th scope=col>&lt;dbl&gt;</th></tr>\n",
       "</thead>\n",
       "<tbody>\n",
       "\t<tr><td>2011-06-18</td><td>09:53:37</td><td>725</td><td>999.00000</td><td>999.00000</td><td>4</td><td>68.60377</td><td>1</td><td>0</td><td>-9.9e+37</td></tr>\n",
       "\t<tr><td>2011-06-18</td><td>09:53:42</td><td>741</td><td> 38.29771</td><td>-74.00185</td><td>3</td><td>68.60024</td><td>1</td><td>0</td><td> 0.0e+00</td></tr>\n",
       "\t<tr><td>2011-06-18</td><td>09:58:47</td><td>866</td><td> 38.29429</td><td>-73.99677</td><td>1</td><td>68.78515</td><td>1</td><td>0</td><td> 0.0e+00</td></tr>\n",
       "\t<tr><td>2011-06-18</td><td>09:58:52</td><td>866</td><td> 38.29424</td><td>-73.99666</td><td>1</td><td>68.77859</td><td>1</td><td>0</td><td> 0.0e+00</td></tr>\n",
       "\t<tr><td>2011-06-18</td><td>09:58:57</td><td>866</td><td> 38.29418</td><td>-73.99653</td><td>1</td><td>68.37986</td><td>1</td><td>0</td><td> 0.0e+00</td></tr>\n",
       "\t<tr><td>2011-06-18</td><td>09:59:02</td><td>866</td><td> 38.29411</td><td>-73.99641</td><td>1</td><td>68.37986</td><td>1</td><td>0</td><td> 0.0e+00</td></tr>\n",
       "</tbody>\n",
       "</table>\n"
      ],
      "text/latex": [
       "A tibble: 6 × 10\n",
       "\\begin{tabular}{r|llllllllll}\n",
       " Ping\\_date & Ping\\_time & Ping\\_milliseconds & Latitude & Longitude & Position\\_status & Depth & Line\\_status & Ping\\_status & Altitude\\\\\n",
       " <dttm> & <time> & <dbl> & <dbl> & <dbl> & <dbl> & <dbl> & <dbl> & <dbl> & <dbl>\\\\\n",
       "\\hline\n",
       "\t 2011-06-18 & 09:53:37 & 725 & 999.00000 & 999.00000 & 4 & 68.60377 & 1 & 0 & -9.9e+37\\\\\n",
       "\t 2011-06-18 & 09:53:42 & 741 &  38.29771 & -74.00185 & 3 & 68.60024 & 1 & 0 &  0.0e+00\\\\\n",
       "\t 2011-06-18 & 09:58:47 & 866 &  38.29429 & -73.99677 & 1 & 68.78515 & 1 & 0 &  0.0e+00\\\\\n",
       "\t 2011-06-18 & 09:58:52 & 866 &  38.29424 & -73.99666 & 1 & 68.77859 & 1 & 0 &  0.0e+00\\\\\n",
       "\t 2011-06-18 & 09:58:57 & 866 &  38.29418 & -73.99653 & 1 & 68.37986 & 1 & 0 &  0.0e+00\\\\\n",
       "\t 2011-06-18 & 09:59:02 & 866 &  38.29411 & -73.99641 & 1 & 68.37986 & 1 & 0 &  0.0e+00\\\\\n",
       "\\end{tabular}\n"
      ],
      "text/markdown": [
       "\n",
       "A tibble: 6 × 10\n",
       "\n",
       "| Ping_date &lt;dttm&gt; | Ping_time &lt;time&gt; | Ping_milliseconds &lt;dbl&gt; | Latitude &lt;dbl&gt; | Longitude &lt;dbl&gt; | Position_status &lt;dbl&gt; | Depth &lt;dbl&gt; | Line_status &lt;dbl&gt; | Ping_status &lt;dbl&gt; | Altitude &lt;dbl&gt; |\n",
       "|---|---|---|---|---|---|---|---|---|---|\n",
       "| 2011-06-18 | 09:53:37 | 725 | 999.00000 | 999.00000 | 4 | 68.60377 | 1 | 0 | -9.9e+37 |\n",
       "| 2011-06-18 | 09:53:42 | 741 |  38.29771 | -74.00185 | 3 | 68.60024 | 1 | 0 |  0.0e+00 |\n",
       "| 2011-06-18 | 09:58:47 | 866 |  38.29429 | -73.99677 | 1 | 68.78515 | 1 | 0 |  0.0e+00 |\n",
       "| 2011-06-18 | 09:58:52 | 866 |  38.29424 | -73.99666 | 1 | 68.77859 | 1 | 0 |  0.0e+00 |\n",
       "| 2011-06-18 | 09:58:57 | 866 |  38.29418 | -73.99653 | 1 | 68.37986 | 1 | 0 |  0.0e+00 |\n",
       "| 2011-06-18 | 09:59:02 | 866 |  38.29411 | -73.99641 | 1 | 68.37986 | 1 | 0 |  0.0e+00 |\n",
       "\n"
      ],
      "text/plain": [
       "  Ping_date  Ping_time Ping_milliseconds Latitude  Longitude Position_status\n",
       "1 2011-06-18 09:53:37  725               999.00000 999.00000 4              \n",
       "2 2011-06-18 09:53:42  741                38.29771 -74.00185 3              \n",
       "3 2011-06-18 09:58:47  866                38.29429 -73.99677 1              \n",
       "4 2011-06-18 09:58:52  866                38.29424 -73.99666 1              \n",
       "5 2011-06-18 09:58:57  866                38.29418 -73.99653 1              \n",
       "6 2011-06-18 09:59:02  866                38.29411 -73.99641 1              \n",
       "  Depth    Line_status Ping_status Altitude\n",
       "1 68.60377 1           0           -9.9e+37\n",
       "2 68.60024 1           0            0.0e+00\n",
       "3 68.78515 1           0            0.0e+00\n",
       "4 68.77859 1           0            0.0e+00\n",
       "5 68.37986 1           0            0.0e+00\n",
       "6 68.37986 1           0            0.0e+00"
      ]
     },
     "metadata": {},
     "output_type": "display_data"
    }
   ],
   "source": [
    "# Load the libraries\n",
    "# .... YOUR CODE FOR TASK 1 ....\n",
    "library(tidyverse)\n",
    "library(lubridate)\n",
    "library(geosphere)\n",
    "library(gridExtra)\n",
    "\n",
    "# Read in the depth data\n",
    "bottom <- read_csv(\"datasets/bottom_line.csv\", col_types = cols(Ping_date = col_datetime(format = \"%m/%d/%Y\")))\n",
    "\n",
    "# Inspect the first six rows\n",
    "head(bottom,6)"
   ]
  },
  {
   "attachments": {},
   "cell_type": "markdown",
   "metadata": {},
   "source": [
    "# 2. What is the \"shelf break\"?\n",
    "\n",
    "The \"shelf break\" is “The Big Drop-off!”. It's the underwater version of a cliff. In most marine ecosystems the shelf break is also a highly dynamic and productive area that provides homes and excellent buffets for many marine species. The smallest phytoplankton to the largest marine mammals, sharks, seabirds, tunas, and sea turtles - they all use this area at some point in their life cycles. And, we’re going to play with some active acoustic data from this fantastic region!\n",
    "\n",
    "But first, let's clean up the bathymetry (depth) data and get it ready for plotting.\n",
    "\n"
   ]
  },
  {
   "cell_type": "code",
   "execution_count": 61,
   "metadata": {},
   "outputs": [
    {
     "data": {
      "text/html": [
       "<table>\n",
       "<caption>A tibble: 6 × 10</caption>\n",
       "<thead>\n",
       "\t<tr><th scope=col>Ping_date</th><th scope=col>Ping_time</th><th scope=col>Latitude</th><th scope=col>Longitude</th><th scope=col>Depth</th><th scope=col>DT</th><th scope=col>dist</th><th scope=col>distalong</th><th scope=col>t_diff</th><th scope=col>m_per_sec</th></tr>\n",
       "\t<tr><th scope=col>&lt;dttm&gt;</th><th scope=col>&lt;time&gt;</th><th scope=col>&lt;dbl&gt;</th><th scope=col>&lt;dbl&gt;</th><th scope=col>&lt;dbl&gt;</th><th scope=col>&lt;dttm&gt;</th><th scope=col>&lt;dbl&gt;</th><th scope=col>&lt;dbl&gt;</th><th scope=col>&lt;dbl&gt;</th><th scope=col>&lt;dbl&gt;</th></tr>\n",
       "</thead>\n",
       "<tbody>\n",
       "\t<tr><td>2011-06-18</td><td>09:58:47</td><td>38.29429</td><td>-73.99677</td><td>68.78515</td><td>2011-06-18 09:58:47</td><td> 0.00000</td><td> 0.00000</td><td>NA</td><td>      NA</td></tr>\n",
       "\t<tr><td>2011-06-18</td><td>09:58:52</td><td>38.29424</td><td>-73.99666</td><td>68.77859</td><td>2011-06-18 09:58:52</td><td>11.47956</td><td>11.47956</td><td> 5</td><td>2.295913</td></tr>\n",
       "\t<tr><td>2011-06-18</td><td>09:58:57</td><td>38.29418</td><td>-73.99653</td><td>68.37986</td><td>2011-06-18 09:58:57</td><td>12.77948</td><td>24.25904</td><td> 5</td><td>2.555895</td></tr>\n",
       "\t<tr><td>2011-06-18</td><td>09:59:02</td><td>38.29411</td><td>-73.99641</td><td>68.37986</td><td>2011-06-18 09:59:02</td><td>13.24406</td><td>37.50310</td><td> 5</td><td>2.648813</td></tr>\n",
       "\t<tr><td>2011-06-18</td><td>09:59:07</td><td>38.29404</td><td>-73.99627</td><td>68.37986</td><td>2011-06-18 09:59:07</td><td>14.17050</td><td>51.67360</td><td> 5</td><td>2.834099</td></tr>\n",
       "\t<tr><td>2011-06-18</td><td>09:59:12</td><td>38.29396</td><td>-73.99612</td><td>68.38039</td><td>2011-06-18 09:59:12</td><td>15.34577</td><td>67.01937</td><td> 5</td><td>3.069153</td></tr>\n",
       "</tbody>\n",
       "</table>\n"
      ],
      "text/latex": [
       "A tibble: 6 × 10\n",
       "\\begin{tabular}{r|llllllllll}\n",
       " Ping\\_date & Ping\\_time & Latitude & Longitude & Depth & DT & dist & distalong & t\\_diff & m\\_per\\_sec\\\\\n",
       " <dttm> & <time> & <dbl> & <dbl> & <dbl> & <dttm> & <dbl> & <dbl> & <dbl> & <dbl>\\\\\n",
       "\\hline\n",
       "\t 2011-06-18 & 09:58:47 & 38.29429 & -73.99677 & 68.78515 & 2011-06-18 09:58:47 &  0.00000 &  0.00000 & NA &       NA\\\\\n",
       "\t 2011-06-18 & 09:58:52 & 38.29424 & -73.99666 & 68.77859 & 2011-06-18 09:58:52 & 11.47956 & 11.47956 &  5 & 2.295913\\\\\n",
       "\t 2011-06-18 & 09:58:57 & 38.29418 & -73.99653 & 68.37986 & 2011-06-18 09:58:57 & 12.77948 & 24.25904 &  5 & 2.555895\\\\\n",
       "\t 2011-06-18 & 09:59:02 & 38.29411 & -73.99641 & 68.37986 & 2011-06-18 09:59:02 & 13.24406 & 37.50310 &  5 & 2.648813\\\\\n",
       "\t 2011-06-18 & 09:59:07 & 38.29404 & -73.99627 & 68.37986 & 2011-06-18 09:59:07 & 14.17050 & 51.67360 &  5 & 2.834099\\\\\n",
       "\t 2011-06-18 & 09:59:12 & 38.29396 & -73.99612 & 68.38039 & 2011-06-18 09:59:12 & 15.34577 & 67.01937 &  5 & 3.069153\\\\\n",
       "\\end{tabular}\n"
      ],
      "text/markdown": [
       "\n",
       "A tibble: 6 × 10\n",
       "\n",
       "| Ping_date &lt;dttm&gt; | Ping_time &lt;time&gt; | Latitude &lt;dbl&gt; | Longitude &lt;dbl&gt; | Depth &lt;dbl&gt; | DT &lt;dttm&gt; | dist &lt;dbl&gt; | distalong &lt;dbl&gt; | t_diff &lt;dbl&gt; | m_per_sec &lt;dbl&gt; |\n",
       "|---|---|---|---|---|---|---|---|---|---|\n",
       "| 2011-06-18 | 09:58:47 | 38.29429 | -73.99677 | 68.78515 | 2011-06-18 09:58:47 |  0.00000 |  0.00000 | NA |       NA |\n",
       "| 2011-06-18 | 09:58:52 | 38.29424 | -73.99666 | 68.77859 | 2011-06-18 09:58:52 | 11.47956 | 11.47956 |  5 | 2.295913 |\n",
       "| 2011-06-18 | 09:58:57 | 38.29418 | -73.99653 | 68.37986 | 2011-06-18 09:58:57 | 12.77948 | 24.25904 |  5 | 2.555895 |\n",
       "| 2011-06-18 | 09:59:02 | 38.29411 | -73.99641 | 68.37986 | 2011-06-18 09:59:02 | 13.24406 | 37.50310 |  5 | 2.648813 |\n",
       "| 2011-06-18 | 09:59:07 | 38.29404 | -73.99627 | 68.37986 | 2011-06-18 09:59:07 | 14.17050 | 51.67360 |  5 | 2.834099 |\n",
       "| 2011-06-18 | 09:59:12 | 38.29396 | -73.99612 | 68.38039 | 2011-06-18 09:59:12 | 15.34577 | 67.01937 |  5 | 3.069153 |\n",
       "\n"
      ],
      "text/plain": [
       "  Ping_date  Ping_time Latitude Longitude Depth    DT                  dist    \n",
       "1 2011-06-18 09:58:47  38.29429 -73.99677 68.78515 2011-06-18 09:58:47  0.00000\n",
       "2 2011-06-18 09:58:52  38.29424 -73.99666 68.77859 2011-06-18 09:58:52 11.47956\n",
       "3 2011-06-18 09:58:57  38.29418 -73.99653 68.37986 2011-06-18 09:58:57 12.77948\n",
       "4 2011-06-18 09:59:02  38.29411 -73.99641 68.37986 2011-06-18 09:59:02 13.24406\n",
       "5 2011-06-18 09:59:07  38.29404 -73.99627 68.37986 2011-06-18 09:59:07 14.17050\n",
       "6 2011-06-18 09:59:12  38.29396 -73.99612 68.38039 2011-06-18 09:59:12 15.34577\n",
       "  distalong t_diff m_per_sec\n",
       "1  0.00000  NA           NA \n",
       "2 11.47956   5     2.295913 \n",
       "3 24.25904   5     2.555895 \n",
       "4 37.50310   5     2.648813 \n",
       "5 51.67360   5     2.834099 \n",
       "6 67.01937   5     3.069153 "
      ]
     },
     "metadata": {},
     "output_type": "display_data"
    }
   ],
   "source": [
    "# Clean the bottom data\n",
    "bottom_clean <- bottom %>%\n",
    "   filter(Position_status == 1) %>%\n",
    "    select(Ping_date,Ping_time,Latitude,Longitude,Depth)%>%\n",
    "  mutate(DT = Ping_date + Ping_time,\n",
    "       dist = c(0, distHaversine(cbind(Longitude[-n()], Latitude[-n()]),\n",
    "                                 cbind(Longitude[ -1], Latitude[ -1]))),                         \n",
    "       distalong = cumsum(dist),\n",
    "       t_diff = c(NA, difftime(DT[ -1], DT[-n()], units = \"secs\")),\n",
    "       m_per_sec = dist/t_diff)\n",
    "  \n",
    "# Inspect the first six rows\n",
    "head(bottom_clean,6)"
   ]
  },
  {
   "cell_type": "markdown",
   "metadata": {},
   "source": [
    "# 3. Where ever you go, there you are\n",
    "\n",
    "Now that we have removed the bad data points and calculated the cumulative distance the ship traveled, let's plot the data to see if our calculation makes sense. A horizontal view of the ship's track will show us if the ship deviated from the track line or if there were any breaks in the data. A plot of the depth of the sea floor along the track line will show us the position of the shelf break. In a spatial analysis of the track line data, we would typically work in the packages sp and sf, but that's a topic all its own. For now, we'll create a couple of track line plots with the latitude, longitude, depth, and distance along the track line."
   ]
  },
  {
   "cell_type": "code",
   "execution_count": 52,
   "metadata": {},
   "outputs": [
    {
     "data": {
      "image/png": "[encoded data removed]",
      "text/plain": [
       "plot without title"
      ]
     },
     "metadata": {},
     "output_type": "display_data"
    }
   ],
   "source": [
    "# Reduce the size of the plots\n",
    "options(repr.plot.width = 7, repr.plot.height = 5)\n",
    "\n",
    "# Plot the ship's track\n",
    "p_LonLat  <- ggplot(bottom_clean, aes( x = Longitude, y = Latitude)) +\n",
    "  geom_point( size = 0.5 )+\n",
    "  labs( x = \"longitude\", y = \"latitude\")\n",
    "# Plot the depth of the sea floor along the ship's track\n",
    "p_bthy  <-  ggplot(bottom_clean, aes( x = distalong, y = Depth )) +\n",
    "  geom_point( size = 0.5)+ scale_y_reverse()+\n",
    "  labs(x = \"Distance along trackline (m)\", y = \"Depth (m)\")\n",
    "\n",
    "# Arrange the plots side by side for easier viewing\n",
    "grid.arrange(p_LonLat, p_bthy, nrow = 1)"
   ]
  },
  {
   "cell_type": "markdown",
   "metadata": {},
   "source": [
    "# 4. What's the difference?\n",
    "\n",
    "It looks like the straight track line isn't so straight. This happens quite often with data collected in this area. There is a lot of fishing gear in the shelf break region of the Mid-Atlantic Bight, and sometimes the ship must divert from the track line to avoid it. It is also possible that the GPS signal was lost for a few minutes. Let's find out what the difference is between the straight-line length of the track line (start point to endpoint) and the cumulative distance the ship traveled.\n",
    "\n",
    "Calculating the difference between the cumulative meters traveled and the straight-line distance of the track line is a common task - a perfect time to create a function to use on other track line data files!"
   ]
  },
  {
   "cell_type": "code",
   "execution_count": 38,
   "metadata": {},
   "outputs": [
    {
     "data": {
      "text/html": [
       "513.3"
      ],
      "text/latex": [
       "513.3"
      ],
      "text/markdown": [
       "513.3"
      ],
      "text/plain": [
       "[1] 513.3"
      ]
     },
     "metadata": {},
     "output_type": "display_data"
    }
   ],
   "source": [
    "# Create the function\n",
    "distance_diff <- function(bottom_data){\n",
    "  cumulative_dist <- last(bottom_data$distalong)\n",
    "  start <- cbind(first(bottom_data$Longitude), first(bottom_data$Latitude))\n",
    "  end <- cbind(last(bottom_data$Longitude), last(bottom_data$Latitude))\n",
    "  straight_line_dist <-  distHaversine(start, end)\n",
    "  return(round(cumulative_dist - straight_line_dist, 1))\n",
    "}\n",
    "\n",
    "# Run distance_diff on the cleaned bottom data\n",
    "distance_diff(bottom_clean)"
   ]
  },
  {
   "cell_type": "markdown",
   "metadata": {},
   "source": [
    "# 5. Here fishy, fishy, fishy...\n",
    "\n",
    "In the grand scheme of track line diversions, a 513-meter difference isn't too bad. This difference could play a larger or small role in the data analysis depending on the ecological question being asked. For now, we'll keep it in mind as we load, clean, and plot out the acoustic data.\n",
    "\n",
    "Volume backscatter is the integration of all the returned echoes within the sampling volume. It's a measure of the relative density of organisms. In this case, because we preprocessed the data in Echoview to look for fish-like scattering, our final plot of the volume backscatter data, Sv_mean, will give us an indication of the distribution of fish along the track line.\n",
    "\n",
    "Will there be sections of the track line with higher/lower densities if fish? Let's find out!"
   ]
  },
  {
   "cell_type": "code",
   "execution_count": 53,
   "metadata": {},
   "outputs": [
    {
     "name": "stdout",
     "output_type": "stream",
     "text": [
      "Observations: 724\n",
      "Variables: 78\n",
      "$ Process_ID                           \u001b[3m\u001b[90m<dbl>\u001b[39m\u001b[23m 20216, 20216, 20216, 20216, 2021…\n",
      "$ Interval                             \u001b[3m\u001b[90m<dbl>\u001b[39m\u001b[23m 4, 5, 6, 7, 8, 9, 10, 11, 12, 13…\n",
      "$ Layer                                \u001b[3m\u001b[90m<dbl>\u001b[39m\u001b[23m 1, 1, 1, 1, 1, 1, 1, 1, 1, 1, 1,…\n",
      "$ Sv_mean                              \u001b[3m\u001b[90m<dbl>\u001b[39m\u001b[23m -67.97805, -67.65053, -66.65866,…\n",
      "$ NASC                                 \u001b[3m\u001b[90m<dbl>\u001b[39m\u001b[23m 365.6001, 429.4046, 539.5769, 37…\n",
      "$ Sv_max                               \u001b[3m\u001b[90m<dbl>\u001b[39m\u001b[23m -53.93325, -54.51390, -51.31861,…\n",
      "$ Sv_min                               \u001b[3m\u001b[90m<dbl>\u001b[39m\u001b[23m -88.67275, -87.36100, -88.99463,…\n",
      "$ Sv_noise                             \u001b[3m\u001b[90m<dbl>\u001b[39m\u001b[23m -967.8684, -967.6432, -967.6233,…\n",
      "$ NASC_noise                           \u001b[3m\u001b[90m<dbl>\u001b[39m\u001b[23m 0, 0, 0, 0, 0, 0, 0, 0, 0, 0, 0,…\n",
      "$ Height_mean                          \u001b[3m\u001b[90m<dbl>\u001b[39m\u001b[23m 53.25000, 58.00000, 58.00000, 58…\n",
      "$ Depth_mean                           \u001b[3m\u001b[90m<dbl>\u001b[39m\u001b[23m 39.04617, 39.00000, 39.00000, 39…\n",
      "$ Good_samples                         \u001b[3m\u001b[90m<dbl>\u001b[39m\u001b[23m 639, 522, 464, 464, 406, 464, 40…\n",
      "$ Layer_depth_min                      \u001b[3m\u001b[90m<dbl>\u001b[39m\u001b[23m 0, 0, 0, 0, 0, 0, 0, 0, 0, 0, 0,…\n",
      "$ Layer_depth_max                      \u001b[3m\u001b[90m<dbl>\u001b[39m\u001b[23m 250, 250, 250, 250, 250, 250, 25…\n",
      "$ Ping_S                               \u001b[3m\u001b[90m<dbl>\u001b[39m\u001b[23m 2, 14, 23, 31, 39, 46, 54, 61, 6…\n",
      "$ Ping_E                               \u001b[3m\u001b[90m<dbl>\u001b[39m\u001b[23m 13, 22, 30, 38, 45, 53, 60, 68, …\n",
      "$ Ping_M                               \u001b[3m\u001b[90m<dbl>\u001b[39m\u001b[23m 7, 18, 26, 34, 42, 49, 57, 64, 7…\n",
      "$ Dist_S                               \u001b[3m\u001b[90m<dbl>\u001b[39m\u001b[23m 609.2889, 804.8728, 1010.5880, 1…\n",
      "$ Dist_E                               \u001b[3m\u001b[90m<dbl>\u001b[39m\u001b[23m 783.8686, 985.7557, 1188.6826, 1…\n",
      "$ Dist_M                               \u001b[3m\u001b[90m<dbl>\u001b[39m\u001b[23m 676.6425, 891.7338, 1086.3678, 1…\n",
      "$ VL_start                             \u001b[3m\u001b[90m<dbl>\u001b[39m\u001b[23m 600.4773, 785.7129, 986.4694, 11…\n",
      "$ VL_end                               \u001b[3m\u001b[90m<dbl>\u001b[39m\u001b[23m 767.8645, 962.5547, 1159.6140, 1…\n",
      "$ VL_mid                               \u001b[3m\u001b[90m<dbl>\u001b[39m\u001b[23m 664.4884, 869.5859, 1060.3471, 1…\n",
      "$ Date_S                               \u001b[3m\u001b[90m<dbl>\u001b[39m\u001b[23m 20110618, 20110618, 20110618, 20…\n",
      "$ Time_S                               \u001b[3m\u001b[90m<time>\u001b[39m\u001b[23m 09:58:47, 09:59:47, 10:00:32, 1…\n",
      "$ Date_E                               \u001b[3m\u001b[90m<dbl>\u001b[39m\u001b[23m 20110618, 20110618, 20110618, 20…\n",
      "$ Time_E                               \u001b[3m\u001b[90m<time>\u001b[39m\u001b[23m 09:59:42, 10:00:27, 10:01:07, 1…\n",
      "$ Date_M                               \u001b[3m\u001b[90m<dttm>\u001b[39m\u001b[23m 2011-06-18, 2011-06-18, 2011-06…\n",
      "$ Time_M                               \u001b[3m\u001b[90m<time>\u001b[39m\u001b[23m 09:59:12, 10:00:07, 10:00:47, 1…\n",
      "$ Lat_S                                \u001b[3m\u001b[90m<dbl>\u001b[39m\u001b[23m 38.29429, 38.29343, 38.29261, 38…\n",
      "$ Lon_S                                \u001b[3m\u001b[90m<dbl>\u001b[39m\u001b[23m -73.99677, -73.99486, -73.99276,…\n",
      "$ Lat_E                                \u001b[3m\u001b[90m<dbl>\u001b[39m\u001b[23m 38.29351, 38.29271, 38.29188, 38…\n",
      "$ Lon_E                                \u001b[3m\u001b[90m<dbl>\u001b[39m\u001b[23m -73.99506, -73.99301, -73.99098,…\n",
      "$ Lat_M                                \u001b[3m\u001b[90m<dbl>\u001b[39m\u001b[23m 38.29396, 38.29309, 38.29230, 38…\n",
      "$ Lon_M                                \u001b[3m\u001b[90m<dbl>\u001b[39m\u001b[23m -73.99612, -73.99397, -73.99202,…\n",
      "$ Exclude_below_line_depth_mean        \u001b[3m\u001b[90m<dbl>\u001b[39m\u001b[23m 68.43658, 68.25401, 68.22956, 68…\n",
      "$ Alpha                                \u001b[3m\u001b[90m<dbl>\u001b[39m\u001b[23m 0.007856, 0.007856, 0.007856, 0.…\n",
      "$ Gain_constant                        \u001b[3m\u001b[90m<dbl>\u001b[39m\u001b[23m -9999, -9999, -9999, -9999, -999…\n",
      "$ Noise_Sv_1m                          \u001b[3m\u001b[90m<dbl>\u001b[39m\u001b[23m -999, -999, -999, -999, -999, -9…\n",
      "$ Minimum_Sv_threshold_applied         \u001b[3m\u001b[90m<dbl>\u001b[39m\u001b[23m 1, 1, 1, 1, 1, 1, 1, 1, 1, 1, 1,…\n",
      "$ Minimum_integration_threshold        \u001b[3m\u001b[90m<dbl>\u001b[39m\u001b[23m -90, -90, -90, -90, -90, -90, -9…\n",
      "$ Maximum_Sv_threshold_applied         \u001b[3m\u001b[90m<dbl>\u001b[39m\u001b[23m 0, 0, 0, 0, 0, 0, 0, 0, 0, 0, 0,…\n",
      "$ Maximum_integration_threshold        \u001b[3m\u001b[90m<dbl>\u001b[39m\u001b[23m 99, 99, 99, 99, 99, 99, 99, 99, …\n",
      "$ Exclude_above_line_applied           \u001b[3m\u001b[90m<dbl>\u001b[39m\u001b[23m 1, 1, 1, 1, 1, 1, 1, 1, 1, 1, 1,…\n",
      "$ Exclude_above_line_depth_mean        \u001b[3m\u001b[90m<dbl>\u001b[39m\u001b[23m 10, 10, 10, 10, 10, 10, 10, 10, …\n",
      "$ Exclude_below_line_applied           \u001b[3m\u001b[90m<dbl>\u001b[39m\u001b[23m 1, 1, 1, 1, 1, 1, 1, 1, 1, 1, 1,…\n",
      "$ Bottom_offset                        \u001b[3m\u001b[90m<dbl>\u001b[39m\u001b[23m 0, 0, 0, 0, 0, 0, 0, 0, 0, 0, 0,…\n",
      "$ Standard_deviation                   \u001b[3m\u001b[90m<dbl>\u001b[39m\u001b[23m 3.67224e-07, 3.45837e-07, 5.5146…\n",
      "$ Skewness                             \u001b[3m\u001b[90m<dbl>\u001b[39m\u001b[23m 6.287088, 5.815767, 7.528268, 8.…\n",
      "$ Kurtosis                             \u001b[3m\u001b[90m<dbl>\u001b[39m\u001b[23m 50.453991, 45.173827, 76.994835,…\n",
      "$ ABC                                  \u001b[3m\u001b[90m<dbl>\u001b[39m\u001b[23m 8.48232e-06, 9.96265e-06, 1.2518…\n",
      "$ ABC_noise                            \u001b[3m\u001b[90m<dbl>\u001b[39m\u001b[23m 0, 0, 0, 0, 0, 0, 0, 0, 0, 0, 0,…\n",
      "$ Area_Backscatter_Strength            \u001b[3m\u001b[90m<dbl>\u001b[39m\u001b[23m -50.71486, -50.01625, -49.02438,…\n",
      "$ Thickness_mean                       \u001b[3m\u001b[90m<dbl>\u001b[39m\u001b[23m 53.25000, 58.00000, 58.00000, 58…\n",
      "$ Range_mean                           \u001b[3m\u001b[90m<dbl>\u001b[39m\u001b[23m 33.04617, 33.00000, 33.00000, 33…\n",
      "$ Exclude_below_line_range_mean        \u001b[3m\u001b[90m<dbl>\u001b[39m\u001b[23m 62.43658, 62.25401, 62.22956, 62…\n",
      "$ Exclude_above_line_range_mean        \u001b[3m\u001b[90m<dbl>\u001b[39m\u001b[23m 4, 4, 4, 4, 4, 4, 4, 4, 4, 4, 4,…\n",
      "$ Bad_data_no_data_samples             \u001b[3m\u001b[90m<dbl>\u001b[39m\u001b[23m 59, 0, 0, 0, 0, 0, 0, 0, 0, 0, 0…\n",
      "$ Beam_volume_sum                      \u001b[3m\u001b[90m<dbl>\u001b[39m\u001b[23m 7299.070, 5945.382, 5284.784, 52…\n",
      "$ No_data_samples                      \u001b[3m\u001b[90m<dbl>\u001b[39m\u001b[23m 0, 0, 0, 0, 0, 0, 0, 0, 0, 0, 0,…\n",
      "$ C_good_samples                       \u001b[3m\u001b[90m<dbl>\u001b[39m\u001b[23m 639, 522, 464, 464, 406, 464, 40…\n",
      "$ C_bad_data_no_data_samples           \u001b[3m\u001b[90m<dbl>\u001b[39m\u001b[23m 59, 0, 0, 0, 0, 0, 0, 0, 0, 0, 0…\n",
      "$ C_no_data_samples                    \u001b[3m\u001b[90m<dbl>\u001b[39m\u001b[23m 0, 0, 0, 0, 0, 0, 0, 0, 0, 0, 0,…\n",
      "$ Frequency                            \u001b[3m\u001b[90m<dbl>\u001b[39m\u001b[23m 38, 38, 38, 38, 38, 38, 38, 38, …\n",
      "$ Grid_reference_line                  \u001b[3m\u001b[90m<chr>\u001b[39m\u001b[23m \"\\\"Surface (depth of zero)\\\"\", \"…\n",
      "$ Layer_top_to_reference_line_depth    \u001b[3m\u001b[90m<dbl>\u001b[39m\u001b[23m 0, 0, 0, 0, 0, 0, 0, 0, 0, 0, 0,…\n",
      "$ Layer_top_to_reference_line_range    \u001b[3m\u001b[90m<dbl>\u001b[39m\u001b[23m -6, -6, -6, -6, -6, -6, -6, -6, …\n",
      "$ Layer_bottom_to_reference_line_depth \u001b[3m\u001b[90m<dbl>\u001b[39m\u001b[23m 250, 250, 250, 250, 250, 250, 25…\n",
      "$ Layer_bottom_to_reference_line_range \u001b[3m\u001b[90m<dbl>\u001b[39m\u001b[23m 244, 244, 244, 244, 244, 244, 24…\n",
      "$ Exclude_below_line_depth_min         \u001b[3m\u001b[90m<dbl>\u001b[39m\u001b[23m 68.28604, 68.21009, 68.20790, 68…\n",
      "$ Exclude_below_line_range_min         \u001b[3m\u001b[90m<dbl>\u001b[39m\u001b[23m 62.28604, 62.21009, 62.20790, 62…\n",
      "$ Exclude_below_line_depth_max         \u001b[3m\u001b[90m<dbl>\u001b[39m\u001b[23m 68.78515, 68.28604, 68.26494, 68…\n",
      "$ Exclude_below_line_range_max         \u001b[3m\u001b[90m<dbl>\u001b[39m\u001b[23m 62.78515, 62.28604, 62.26494, 62…\n",
      "$ Samples_Below_Bottom_Exclusion       \u001b[3m\u001b[90m<dbl>\u001b[39m\u001b[23m 2182, 1638, 1456, 1456, 1274, 14…\n",
      "$ Samples_Above_Surface_Exclusion      \u001b[3m\u001b[90m<dbl>\u001b[39m\u001b[23m 48, 36, 32, 32, 28, 32, 28, 32, …\n",
      "$ Samples_In_Domain                    \u001b[3m\u001b[90m<dbl>\u001b[39m\u001b[23m 2928, 2196, 1952, 1952, 1708, 19…\n",
      "$ Bad_data_empty_water_samples         \u001b[3m\u001b[90m<dbl>\u001b[39m\u001b[23m 0, 0, 0, 0, 0, 0, 0, 0, 0, 0, 0,…\n",
      "$ C_bad_data_empty_water_samples       \u001b[3m\u001b[90m<dbl>\u001b[39m\u001b[23m 0, 0, 0, 0, 0, 0, 0, 0, 0, 0, 0,…\n"
     ]
    }
   ],
   "source": [
    "# Read in the acoustic data\n",
    "acoustic <- read_csv(\"datasets/acoustic_LgSBF.csv\", col_types = cols(Date_M = col_datetime(format = \"%Y%m%d\"))) %>% \n",
    "filter(Lon_M != 999.0) \n",
    "# Glimpse the data\n",
    "glimpse(acoustic)"
   ]
  },
  {
   "cell_type": "markdown",
   "metadata": {},
   "source": [
    "# 6. That's a lot of variables!\n",
    "\n",
    "Wow! 724 observations of 78 variables! This is the full data export from Echoview, but remember, we’re only interested in the volume backscatter data, Sv_mean, and the few other variables needed to plot the data.\n",
    "\n",
    "These backscatter data were integrated into grid cells that are 200 meters along the ship’s path (numbered in the variable, Interval), by 250 meters deep, (numbered in the variable, Layer), making a coordinate system referenced to the ship’s path and depth. We are going to explore the first depth layer."
   ]
  },
  {
   "cell_type": "code",
   "execution_count": 54,
   "metadata": {},
   "outputs": [
    {
     "name": "stdout",
     "output_type": "stream",
     "text": [
      "Observations: 362\n",
      "Variables: 11\n",
      "$ sp_interval \u001b[3m\u001b[90m<dbl>\u001b[39m\u001b[23m 4, 5, 6, 7, 8, 9, 10, 11, 12, 13, 14, 15, 16, 17, 18, 19,…\n",
      "$ Layer       \u001b[3m\u001b[90m<dbl>\u001b[39m\u001b[23m 1, 1, 1, 1, 1, 1, 1, 1, 1, 1, 1, 1, 1, 1, 1, 1, 1, 1, 1, …\n",
      "$ Sv_mean     \u001b[3m\u001b[90m<dbl>\u001b[39m\u001b[23m -67.97805, -67.65053, -66.65866, -68.24425, -69.02423, -6…\n",
      "$ Frequency   \u001b[3m\u001b[90m<dbl>\u001b[39m\u001b[23m 38, 38, 38, 38, 38, 38, 38, 38, 38, 38, 38, 38, 38, 38, 3…\n",
      "$ Date_M      \u001b[3m\u001b[90m<dttm>\u001b[39m\u001b[23m 2011-06-18, 2011-06-18, 2011-06-18, 2011-06-18, 2011-06-…\n",
      "$ Time_S      \u001b[3m\u001b[90m<time>\u001b[39m\u001b[23m 09:58:47, 09:59:47, 10:00:32, 10:01:12, 10:01:52, 10:02:…\n",
      "$ Time_E      \u001b[3m\u001b[90m<time>\u001b[39m\u001b[23m 09:59:42, 10:00:27, 10:01:07, 10:01:47, 10:02:22, 10:03:…\n",
      "$ Lat_M       \u001b[3m\u001b[90m<dbl>\u001b[39m\u001b[23m 38.29396, 38.29309, 38.29230, 38.29147, 38.29067, 38.2900…\n",
      "$ Lon_M       \u001b[3m\u001b[90m<dbl>\u001b[39m\u001b[23m -73.99612, -73.99397, -73.99202, -73.98992, -73.98776, -7…\n",
      "$ DT_S        \u001b[3m\u001b[90m<dttm>\u001b[39m\u001b[23m 2011-06-18 09:58:47, 2011-06-18 09:59:47, 2011-06-18 10:…\n",
      "$ DT_E        \u001b[3m\u001b[90m<dttm>\u001b[39m\u001b[23m 2011-06-18 09:59:42, 2011-06-18 10:00:27, 2011-06-18 10:…\n"
     ]
    }
   ],
   "source": [
    "# Create a list of variables to keep\n",
    "vars_keep <- c(\"Interval\", \"Layer\", \"Sv_mean\", \"Frequency\", \n",
    "               \"Date_M\", \"Time_S\", \"Time_E\", \"Lat_M\", \"Lon_M\")\n",
    "\n",
    "# Select, rename, filter, mutate, and arrange the data \n",
    "Sv_sbf_layer1 <- acoustic %>%\n",
    "    select(one_of(vars_keep)) %>% \n",
    "    rename(sp_interval = Interval) %>%\n",
    "    filter(Layer == 1)  %>% \n",
    "    mutate(DT_S = Date_M + Time_S,\n",
    "         DT_E = Date_M + Time_E)  %>% \n",
    "    arrange(DT_S) \n",
    "\n",
    "# Glimpse the cleaned acoustic data\n",
    "glimpse(Sv_sbf_layer1)"
   ]
  },
  {
   "cell_type": "markdown",
   "metadata": {},
   "source": [
    "# 7. A little more wrangling\n",
    "\n",
    "Great! All this is coming together nicely. In bottom_clean we have depth, distance along the track line, and timestamps. We now also have an almost clean acoustic dataset, Sv_sbf_layer1, with timestamps but no distance along the track line, and no depth information (we'll get to that in a minute). Also, Echoview uses -999.0 to indicate NAs. We need to fix that or our plot of backscatter will look a little wonky. "
   ]
  },
  {
   "cell_type": "code",
   "execution_count": 55,
   "metadata": {},
   "outputs": [
    {
     "name": "stdout",
     "output_type": "stream",
     "text": [
      "Observations: 362\n",
      "Variables: 14\n",
      "$ sp_interval \u001b[3m\u001b[90m<dbl>\u001b[39m\u001b[23m 4, 5, 6, 7, 8, 9, 10, 11, 12, 13, 14, 15, 16, 17, 18, 19,…\n",
      "$ Layer       \u001b[3m\u001b[90m<dbl>\u001b[39m\u001b[23m 1, 1, 1, 1, 1, 1, 1, 1, 1, 1, 1, 1, 1, 1, 1, 1, 1, 1, 1, …\n",
      "$ Sv_mean     \u001b[3m\u001b[90m<dbl>\u001b[39m\u001b[23m -67.97805, -67.65053, -66.65866, -68.24425, -69.02423, -6…\n",
      "$ Frequency   \u001b[3m\u001b[90m<dbl>\u001b[39m\u001b[23m 38, 38, 38, 38, 38, 38, 38, 38, 38, 38, 38, 38, 38, 38, 3…\n",
      "$ Date_M      \u001b[3m\u001b[90m<dttm>\u001b[39m\u001b[23m 2011-06-18, 2011-06-18, 2011-06-18, 2011-06-18, 2011-06-…\n",
      "$ Time_S      \u001b[3m\u001b[90m<time>\u001b[39m\u001b[23m 09:58:47, 09:59:47, 10:00:32, 10:01:12, 10:01:52, 10:02:…\n",
      "$ Time_E      \u001b[3m\u001b[90m<time>\u001b[39m\u001b[23m 09:59:42, 10:00:27, 10:01:07, 10:01:47, 10:02:22, 10:03:…\n",
      "$ Lat_M       \u001b[3m\u001b[90m<dbl>\u001b[39m\u001b[23m 38.29396, 38.29309, 38.29230, 38.29147, 38.29067, 38.2900…\n",
      "$ Lon_M       \u001b[3m\u001b[90m<dbl>\u001b[39m\u001b[23m -73.99612, -73.99397, -73.99202, -73.98992, -73.98776, -7…\n",
      "$ DT_S        \u001b[3m\u001b[90m<dttm>\u001b[39m\u001b[23m 2011-06-18 09:58:47, 2011-06-18 09:59:47, 2011-06-18 10:…\n",
      "$ DT_E        \u001b[3m\u001b[90m<dttm>\u001b[39m\u001b[23m 2011-06-18 09:59:42, 2011-06-18 10:00:27, 2011-06-18 10:…\n",
      "$ dist_M      \u001b[3m\u001b[90m<dbl>\u001b[39m\u001b[23m 0.0000, 211.7871, 192.3324, 204.8778, 209.1278, 183.3635,…\n",
      "$ distalong   \u001b[3m\u001b[90m<dbl>\u001b[39m\u001b[23m 0.0000, 211.7871, 404.1196, 608.9974, 818.1252, 1001.4887…\n",
      "$ tm_interval \u001b[3m\u001b[90m<Interval>\u001b[39m\u001b[23m 2011-06-18 09:58:47 UTC--2011-06-18 09:59:42 UTC, 20…\n"
     ]
    }
   ],
   "source": [
    "# More data wrangling...\n",
    "Sv_sbf <- Sv_sbf_layer1 %>% \n",
    "  mutate(dist_M = c(0, distHaversine(cbind(Lon_M[-n()], Lat_M[-n()]),       \n",
    "                          cbind(Lon_M[  -1], Lat_M[  -1]))),\n",
    "       distalong = cumsum(dist_M)) %>%\n",
    "  na_if(-999.0) %>% \n",
    "  mutate(tm_interval = interval(DT_S, DT_E))\n",
    "\n",
    "# Glimpse the data\n",
    "glimpse(Sv_sbf)"
   ]
  },
  {
   "cell_type": "markdown",
   "metadata": {},
   "source": [
    "# 8. Can't go spatial? Go temporal\n",
    "\n",
    "There is no depth information in the acoustic file. Well, that's not exactly true. One of those 78 variables was a mean depth, but it was an average of an average, and it was not as accurate as the depth data we have in bottom_clean.\n",
    "\n",
    "You might have also noticed that the two data sets have different spatial resolutions. How can we pull the depth data out of bottom_clean and join it with the acoustic data? There are a few different spatial ways to do this, but because we are not working in the spatial packages, we'll write a function to figure out which data points from bottom_clean fall within the time interval, tm_interval, we just created"
   ]
  },
  {
   "cell_type": "code",
   "execution_count": 62,
   "metadata": {},
   "outputs": [
    {
     "data": {
      "text/html": [
       "<table>\n",
       "<caption>A tibble: 15 × 11</caption>\n",
       "<thead>\n",
       "\t<tr><th scope=col>Ping_date</th><th scope=col>Ping_time</th><th scope=col>Latitude</th><th scope=col>Longitude</th><th scope=col>Depth</th><th scope=col>DT</th><th scope=col>dist</th><th scope=col>distalong</th><th scope=col>t_diff</th><th scope=col>m_per_sec</th><th scope=col>trkln_interval</th></tr>\n",
       "\t<tr><th scope=col>&lt;dttm&gt;</th><th scope=col>&lt;time&gt;</th><th scope=col>&lt;dbl&gt;</th><th scope=col>&lt;dbl&gt;</th><th scope=col>&lt;dbl&gt;</th><th scope=col>&lt;dttm&gt;</th><th scope=col>&lt;dbl&gt;</th><th scope=col>&lt;dbl&gt;</th><th scope=col>&lt;dbl&gt;</th><th scope=col>&lt;dbl&gt;</th><th scope=col>&lt;dbl&gt;</th></tr>\n",
       "</thead>\n",
       "<tbody>\n",
       "\t<tr><td>2011-06-18</td><td>09:58:47</td><td>38.29429</td><td>-73.99677</td><td>68.78515</td><td>2011-06-18 09:58:47</td><td> 0.00000</td><td>  0.00000</td><td>NA</td><td>      NA</td><td>4</td></tr>\n",
       "\t<tr><td>2011-06-18</td><td>09:58:52</td><td>38.29424</td><td>-73.99666</td><td>68.77859</td><td>2011-06-18 09:58:52</td><td>11.47956</td><td> 11.47956</td><td> 5</td><td>2.295913</td><td>4</td></tr>\n",
       "\t<tr><td>2011-06-18</td><td>09:58:57</td><td>38.29418</td><td>-73.99653</td><td>68.37986</td><td>2011-06-18 09:58:57</td><td>12.77948</td><td> 24.25904</td><td> 5</td><td>2.555895</td><td>4</td></tr>\n",
       "\t<tr><td>2011-06-18</td><td>09:59:02</td><td>38.29411</td><td>-73.99641</td><td>68.37986</td><td>2011-06-18 09:59:02</td><td>13.24406</td><td> 37.50310</td><td> 5</td><td>2.648813</td><td>4</td></tr>\n",
       "\t<tr><td>2011-06-18</td><td>09:59:07</td><td>38.29404</td><td>-73.99627</td><td>68.37986</td><td>2011-06-18 09:59:07</td><td>14.17050</td><td> 51.67360</td><td> 5</td><td>2.834099</td><td>4</td></tr>\n",
       "\t<tr><td>2011-06-18</td><td>09:59:12</td><td>38.29396</td><td>-73.99612</td><td>68.38039</td><td>2011-06-18 09:59:12</td><td>15.34577</td><td> 67.01937</td><td> 5</td><td>3.069153</td><td>4</td></tr>\n",
       "\t<tr><td>2011-06-18</td><td>09:59:17</td><td>38.29390</td><td>-73.99597</td><td>68.38039</td><td>2011-06-18 09:59:17</td><td>15.09648</td><td> 82.11585</td><td> 5</td><td>3.019296</td><td>4</td></tr>\n",
       "\t<tr><td>2011-06-18</td><td>09:59:22</td><td>38.29383</td><td>-73.99582</td><td>68.37777</td><td>2011-06-18 09:59:22</td><td>15.72843</td><td> 97.84428</td><td> 5</td><td>3.145686</td><td>4</td></tr>\n",
       "\t<tr><td>2011-06-18</td><td>09:59:27</td><td>38.29375</td><td>-73.99564</td><td>68.37777</td><td>2011-06-18 09:59:27</td><td>18.05774</td><td>115.90203</td><td> 5</td><td>3.611549</td><td>4</td></tr>\n",
       "\t<tr><td>2011-06-18</td><td>09:59:32</td><td>38.29368</td><td>-73.99545</td><td>68.44719</td><td>2011-06-18 09:59:32</td><td>18.00171</td><td>133.90374</td><td> 5</td><td>3.600343</td><td>4</td></tr>\n",
       "\t<tr><td>2011-06-18</td><td>09:59:37</td><td>38.29360</td><td>-73.99526</td><td>68.28604</td><td>2011-06-18 09:59:37</td><td>19.01490</td><td>152.91864</td><td> 5</td><td>3.802980</td><td>4</td></tr>\n",
       "\t<tr><td>2011-06-18</td><td>09:59:42</td><td>38.29351</td><td>-73.99506</td><td>68.28604</td><td>2011-06-18 09:59:42</td><td>19.74884</td><td>172.66748</td><td> 5</td><td>3.949768</td><td>4</td></tr>\n",
       "\t<tr><td>2011-06-18</td><td>09:59:47</td><td>38.29343</td><td>-73.99486</td><td>68.28604</td><td>2011-06-18 09:59:47</td><td>20.02998</td><td>192.69746</td><td> 5</td><td>4.005996</td><td>5</td></tr>\n",
       "\t<tr><td>2011-06-18</td><td>09:59:52</td><td>38.29335</td><td>-73.99464</td><td>68.26205</td><td>2011-06-18 09:59:52</td><td>20.51630</td><td>213.21376</td><td> 5</td><td>4.103261</td><td>5</td></tr>\n",
       "\t<tr><td>2011-06-18</td><td>09:59:57</td><td>38.29328</td><td>-73.99442</td><td>68.26305</td><td>2011-06-18 09:59:57</td><td>21.04787</td><td>234.26163</td><td> 5</td><td>4.209573</td><td>5</td></tr>\n",
       "</tbody>\n",
       "</table>\n"
      ],
      "text/latex": [
       "A tibble: 15 × 11\n",
       "\\begin{tabular}{r|lllllllllll}\n",
       " Ping\\_date & Ping\\_time & Latitude & Longitude & Depth & DT & dist & distalong & t\\_diff & m\\_per\\_sec & trkln\\_interval\\\\\n",
       " <dttm> & <time> & <dbl> & <dbl> & <dbl> & <dttm> & <dbl> & <dbl> & <dbl> & <dbl> & <dbl>\\\\\n",
       "\\hline\n",
       "\t 2011-06-18 & 09:58:47 & 38.29429 & -73.99677 & 68.78515 & 2011-06-18 09:58:47 &  0.00000 &   0.00000 & NA &       NA & 4\\\\\n",
       "\t 2011-06-18 & 09:58:52 & 38.29424 & -73.99666 & 68.77859 & 2011-06-18 09:58:52 & 11.47956 &  11.47956 &  5 & 2.295913 & 4\\\\\n",
       "\t 2011-06-18 & 09:58:57 & 38.29418 & -73.99653 & 68.37986 & 2011-06-18 09:58:57 & 12.77948 &  24.25904 &  5 & 2.555895 & 4\\\\\n",
       "\t 2011-06-18 & 09:59:02 & 38.29411 & -73.99641 & 68.37986 & 2011-06-18 09:59:02 & 13.24406 &  37.50310 &  5 & 2.648813 & 4\\\\\n",
       "\t 2011-06-18 & 09:59:07 & 38.29404 & -73.99627 & 68.37986 & 2011-06-18 09:59:07 & 14.17050 &  51.67360 &  5 & 2.834099 & 4\\\\\n",
       "\t 2011-06-18 & 09:59:12 & 38.29396 & -73.99612 & 68.38039 & 2011-06-18 09:59:12 & 15.34577 &  67.01937 &  5 & 3.069153 & 4\\\\\n",
       "\t 2011-06-18 & 09:59:17 & 38.29390 & -73.99597 & 68.38039 & 2011-06-18 09:59:17 & 15.09648 &  82.11585 &  5 & 3.019296 & 4\\\\\n",
       "\t 2011-06-18 & 09:59:22 & 38.29383 & -73.99582 & 68.37777 & 2011-06-18 09:59:22 & 15.72843 &  97.84428 &  5 & 3.145686 & 4\\\\\n",
       "\t 2011-06-18 & 09:59:27 & 38.29375 & -73.99564 & 68.37777 & 2011-06-18 09:59:27 & 18.05774 & 115.90203 &  5 & 3.611549 & 4\\\\\n",
       "\t 2011-06-18 & 09:59:32 & 38.29368 & -73.99545 & 68.44719 & 2011-06-18 09:59:32 & 18.00171 & 133.90374 &  5 & 3.600343 & 4\\\\\n",
       "\t 2011-06-18 & 09:59:37 & 38.29360 & -73.99526 & 68.28604 & 2011-06-18 09:59:37 & 19.01490 & 152.91864 &  5 & 3.802980 & 4\\\\\n",
       "\t 2011-06-18 & 09:59:42 & 38.29351 & -73.99506 & 68.28604 & 2011-06-18 09:59:42 & 19.74884 & 172.66748 &  5 & 3.949768 & 4\\\\\n",
       "\t 2011-06-18 & 09:59:47 & 38.29343 & -73.99486 & 68.28604 & 2011-06-18 09:59:47 & 20.02998 & 192.69746 &  5 & 4.005996 & 5\\\\\n",
       "\t 2011-06-18 & 09:59:52 & 38.29335 & -73.99464 & 68.26205 & 2011-06-18 09:59:52 & 20.51630 & 213.21376 &  5 & 4.103261 & 5\\\\\n",
       "\t 2011-06-18 & 09:59:57 & 38.29328 & -73.99442 & 68.26305 & 2011-06-18 09:59:57 & 21.04787 & 234.26163 &  5 & 4.209573 & 5\\\\\n",
       "\\end{tabular}\n"
      ],
      "text/markdown": [
       "\n",
       "A tibble: 15 × 11\n",
       "\n",
       "| Ping_date &lt;dttm&gt; | Ping_time &lt;time&gt; | Latitude &lt;dbl&gt; | Longitude &lt;dbl&gt; | Depth &lt;dbl&gt; | DT &lt;dttm&gt; | dist &lt;dbl&gt; | distalong &lt;dbl&gt; | t_diff &lt;dbl&gt; | m_per_sec &lt;dbl&gt; | trkln_interval &lt;dbl&gt; |\n",
       "|---|---|---|---|---|---|---|---|---|---|---|\n",
       "| 2011-06-18 | 09:58:47 | 38.29429 | -73.99677 | 68.78515 | 2011-06-18 09:58:47 |  0.00000 |   0.00000 | NA |       NA | 4 |\n",
       "| 2011-06-18 | 09:58:52 | 38.29424 | -73.99666 | 68.77859 | 2011-06-18 09:58:52 | 11.47956 |  11.47956 |  5 | 2.295913 | 4 |\n",
       "| 2011-06-18 | 09:58:57 | 38.29418 | -73.99653 | 68.37986 | 2011-06-18 09:58:57 | 12.77948 |  24.25904 |  5 | 2.555895 | 4 |\n",
       "| 2011-06-18 | 09:59:02 | 38.29411 | -73.99641 | 68.37986 | 2011-06-18 09:59:02 | 13.24406 |  37.50310 |  5 | 2.648813 | 4 |\n",
       "| 2011-06-18 | 09:59:07 | 38.29404 | -73.99627 | 68.37986 | 2011-06-18 09:59:07 | 14.17050 |  51.67360 |  5 | 2.834099 | 4 |\n",
       "| 2011-06-18 | 09:59:12 | 38.29396 | -73.99612 | 68.38039 | 2011-06-18 09:59:12 | 15.34577 |  67.01937 |  5 | 3.069153 | 4 |\n",
       "| 2011-06-18 | 09:59:17 | 38.29390 | -73.99597 | 68.38039 | 2011-06-18 09:59:17 | 15.09648 |  82.11585 |  5 | 3.019296 | 4 |\n",
       "| 2011-06-18 | 09:59:22 | 38.29383 | -73.99582 | 68.37777 | 2011-06-18 09:59:22 | 15.72843 |  97.84428 |  5 | 3.145686 | 4 |\n",
       "| 2011-06-18 | 09:59:27 | 38.29375 | -73.99564 | 68.37777 | 2011-06-18 09:59:27 | 18.05774 | 115.90203 |  5 | 3.611549 | 4 |\n",
       "| 2011-06-18 | 09:59:32 | 38.29368 | -73.99545 | 68.44719 | 2011-06-18 09:59:32 | 18.00171 | 133.90374 |  5 | 3.600343 | 4 |\n",
       "| 2011-06-18 | 09:59:37 | 38.29360 | -73.99526 | 68.28604 | 2011-06-18 09:59:37 | 19.01490 | 152.91864 |  5 | 3.802980 | 4 |\n",
       "| 2011-06-18 | 09:59:42 | 38.29351 | -73.99506 | 68.28604 | 2011-06-18 09:59:42 | 19.74884 | 172.66748 |  5 | 3.949768 | 4 |\n",
       "| 2011-06-18 | 09:59:47 | 38.29343 | -73.99486 | 68.28604 | 2011-06-18 09:59:47 | 20.02998 | 192.69746 |  5 | 4.005996 | 5 |\n",
       "| 2011-06-18 | 09:59:52 | 38.29335 | -73.99464 | 68.26205 | 2011-06-18 09:59:52 | 20.51630 | 213.21376 |  5 | 4.103261 | 5 |\n",
       "| 2011-06-18 | 09:59:57 | 38.29328 | -73.99442 | 68.26305 | 2011-06-18 09:59:57 | 21.04787 | 234.26163 |  5 | 4.209573 | 5 |\n",
       "\n"
      ],
      "text/plain": [
       "   Ping_date  Ping_time Latitude Longitude Depth    DT                 \n",
       "1  2011-06-18 09:58:47  38.29429 -73.99677 68.78515 2011-06-18 09:58:47\n",
       "2  2011-06-18 09:58:52  38.29424 -73.99666 68.77859 2011-06-18 09:58:52\n",
       "3  2011-06-18 09:58:57  38.29418 -73.99653 68.37986 2011-06-18 09:58:57\n",
       "4  2011-06-18 09:59:02  38.29411 -73.99641 68.37986 2011-06-18 09:59:02\n",
       "5  2011-06-18 09:59:07  38.29404 -73.99627 68.37986 2011-06-18 09:59:07\n",
       "6  2011-06-18 09:59:12  38.29396 -73.99612 68.38039 2011-06-18 09:59:12\n",
       "7  2011-06-18 09:59:17  38.29390 -73.99597 68.38039 2011-06-18 09:59:17\n",
       "8  2011-06-18 09:59:22  38.29383 -73.99582 68.37777 2011-06-18 09:59:22\n",
       "9  2011-06-18 09:59:27  38.29375 -73.99564 68.37777 2011-06-18 09:59:27\n",
       "10 2011-06-18 09:59:32  38.29368 -73.99545 68.44719 2011-06-18 09:59:32\n",
       "11 2011-06-18 09:59:37  38.29360 -73.99526 68.28604 2011-06-18 09:59:37\n",
       "12 2011-06-18 09:59:42  38.29351 -73.99506 68.28604 2011-06-18 09:59:42\n",
       "13 2011-06-18 09:59:47  38.29343 -73.99486 68.28604 2011-06-18 09:59:47\n",
       "14 2011-06-18 09:59:52  38.29335 -73.99464 68.26205 2011-06-18 09:59:52\n",
       "15 2011-06-18 09:59:57  38.29328 -73.99442 68.26305 2011-06-18 09:59:57\n",
       "   dist     distalong t_diff m_per_sec trkln_interval\n",
       "1   0.00000   0.00000 NA           NA  4             \n",
       "2  11.47956  11.47956  5     2.295913  4             \n",
       "3  12.77948  24.25904  5     2.555895  4             \n",
       "4  13.24406  37.50310  5     2.648813  4             \n",
       "5  14.17050  51.67360  5     2.834099  4             \n",
       "6  15.34577  67.01937  5     3.069153  4             \n",
       "7  15.09648  82.11585  5     3.019296  4             \n",
       "8  15.72843  97.84428  5     3.145686  4             \n",
       "9  18.05774 115.90203  5     3.611549  4             \n",
       "10 18.00171 133.90374  5     3.600343  4             \n",
       "11 19.01490 152.91864  5     3.802980  4             \n",
       "12 19.74884 172.66748  5     3.949768  4             \n",
       "13 20.02998 192.69746  5     4.005996  5             \n",
       "14 20.51630 213.21376  5     4.103261  5             \n",
       "15 21.04787 234.26163  5     4.209573  5             "
      ]
     },
     "metadata": {},
     "output_type": "display_data"
    }
   ],
   "source": [
    "# Function: assign sp_interval to bottom points that fall within tm_interval\n",
    "get_Interval_by_time <- function(bottom_data){\n",
    "  res <- Sv_sbf$sp_interval[bottom_data %within% Sv_sbf$tm_interval]\n",
    "  if(length(res)==0) return(NA)         \n",
    "  return(res)\n",
    "}\n",
    "\n",
    "# Map the track line interval value to bottom_clean\n",
    "bottom_clean_int <- bottom_clean  %>% \n",
    "    mutate(trkln_interval = map_dbl(DT, get_Interval_by_time))\n",
    "\n",
    "# Inspect the first 15 rows\n",
    "head(bottom_clean_int,15)"
   ]
  },
  {
   "cell_type": "markdown",
   "metadata": {},
   "source": [
    "# 9. Depth of an Interval\n",
    "\n",
    "Now that we have spatial track line intervals from the acoustic data assigned to each data point in bottom_clean_int, we can group the bottom data by the interval and calculate the mean depth for each trkln_interval along the track line."
   ]
  },
  {
   "cell_type": "code",
   "execution_count": 57,
   "metadata": {},
   "outputs": [
    {
     "data": {
      "text/html": [
       "<table>\n",
       "<caption>A tibble: 6 × 2</caption>\n",
       "<thead>\n",
       "\t<tr><th scope=col>trkln_interval</th><th scope=col>depth_mean</th></tr>\n",
       "\t<tr><th scope=col>&lt;dbl&gt;</th><th scope=col>&lt;dbl&gt;</th></tr>\n",
       "</thead>\n",
       "<tbody>\n",
       "\t<tr><td>4</td><td>68.43658</td></tr>\n",
       "\t<tr><td>5</td><td>68.25401</td></tr>\n",
       "\t<tr><td>6</td><td>68.22956</td></tr>\n",
       "\t<tr><td>7</td><td>68.10563</td></tr>\n",
       "\t<tr><td>8</td><td>68.14753</td></tr>\n",
       "\t<tr><td>9</td><td>67.74444</td></tr>\n",
       "</tbody>\n",
       "</table>\n"
      ],
      "text/latex": [
       "A tibble: 6 × 2\n",
       "\\begin{tabular}{r|ll}\n",
       " trkln\\_interval & depth\\_mean\\\\\n",
       " <dbl> & <dbl>\\\\\n",
       "\\hline\n",
       "\t 4 & 68.43658\\\\\n",
       "\t 5 & 68.25401\\\\\n",
       "\t 6 & 68.22956\\\\\n",
       "\t 7 & 68.10563\\\\\n",
       "\t 8 & 68.14753\\\\\n",
       "\t 9 & 67.74444\\\\\n",
       "\\end{tabular}\n"
      ],
      "text/markdown": [
       "\n",
       "A tibble: 6 × 2\n",
       "\n",
       "| trkln_interval &lt;dbl&gt; | depth_mean &lt;dbl&gt; |\n",
       "|---|---|\n",
       "| 4 | 68.43658 |\n",
       "| 5 | 68.25401 |\n",
       "| 6 | 68.22956 |\n",
       "| 7 | 68.10563 |\n",
       "| 8 | 68.14753 |\n",
       "| 9 | 67.74444 |\n",
       "\n"
      ],
      "text/plain": [
       "  trkln_interval depth_mean\n",
       "1 4              68.43658  \n",
       "2 5              68.25401  \n",
       "3 6              68.22956  \n",
       "4 7              68.10563  \n",
       "5 8              68.14753  \n",
       "6 9              67.74444  "
      ]
     },
     "metadata": {},
     "output_type": "display_data"
    }
   ],
   "source": [
    "# Group bottom_clean and calculate the mean depth\n",
    "bottom_intervals <- bottom_clean_int %>%\n",
    "    group_by(trkln_interval) %>%\n",
    "    summarize(depth_mean = mean(Depth)) %>%\n",
    "    ungroup()\n",
    "\n",
    "# Inspect the first six rows of bottom_intervals\n",
    "head(bottom_intervals,6)"
   ]
  },
  {
   "cell_type": "markdown",
   "metadata": {},
   "source": [
    "# 10. Acoustic data, meet Depth data\n",
    "\n",
    "We're almost ready to plot Sv_mean in relation to the bathymetry (depth) and find out where the high and low densities of fishes are along the track line.\n",
    "\n",
    "But first, the two datasets need to be joined. Unfortunately, at the time of writing, the temporal intervals created in lubridate do not play well with joins. We'll have to remove them for the join to work. Also, remember that we're only looking at the first depth layer (0 to 250 m). Because we do not want to insinuate that we're plotting data integrated over the entire water column, we will replace depths greater than 250 m with 250."
   ]
  },
  {
   "cell_type": "code",
   "execution_count": 58,
   "metadata": {},
   "outputs": [
    {
     "name": "stdout",
     "output_type": "stream",
     "text": [
      "Observations: 362\n",
      "Variables: 15\n",
      "$ sp_interval \u001b[3m\u001b[90m<dbl>\u001b[39m\u001b[23m 4, 5, 6, 7, 8, 9, 10, 11, 12, 13, 14, 15, 16, 17, 18, 19,…\n",
      "$ Layer       \u001b[3m\u001b[90m<dbl>\u001b[39m\u001b[23m 1, 1, 1, 1, 1, 1, 1, 1, 1, 1, 1, 1, 1, 1, 1, 1, 1, 1, 1, …\n",
      "$ Sv_mean     \u001b[3m\u001b[90m<dbl>\u001b[39m\u001b[23m -67.97805, -67.65053, -66.65866, -68.24425, -69.02423, -6…\n",
      "$ Frequency   \u001b[3m\u001b[90m<dbl>\u001b[39m\u001b[23m 38, 38, 38, 38, 38, 38, 38, 38, 38, 38, 38, 38, 38, 38, 3…\n",
      "$ Date_M      \u001b[3m\u001b[90m<dttm>\u001b[39m\u001b[23m 2011-06-18, 2011-06-18, 2011-06-18, 2011-06-18, 2011-06-…\n",
      "$ Time_S      \u001b[3m\u001b[90m<time>\u001b[39m\u001b[23m 09:58:47, 09:59:47, 10:00:32, 10:01:12, 10:01:52, 10:02:…\n",
      "$ Time_E      \u001b[3m\u001b[90m<time>\u001b[39m\u001b[23m 09:59:42, 10:00:27, 10:01:07, 10:01:47, 10:02:22, 10:03:…\n",
      "$ Lat_M       \u001b[3m\u001b[90m<dbl>\u001b[39m\u001b[23m 38.29396, 38.29309, 38.29230, 38.29147, 38.29067, 38.2900…\n",
      "$ Lon_M       \u001b[3m\u001b[90m<dbl>\u001b[39m\u001b[23m -73.99612, -73.99397, -73.99202, -73.98992, -73.98776, -7…\n",
      "$ DT_S        \u001b[3m\u001b[90m<dttm>\u001b[39m\u001b[23m 2011-06-18 09:58:47, 2011-06-18 09:59:47, 2011-06-18 10:…\n",
      "$ DT_E        \u001b[3m\u001b[90m<dttm>\u001b[39m\u001b[23m 2011-06-18 09:59:42, 2011-06-18 10:00:27, 2011-06-18 10:…\n",
      "$ dist_M      \u001b[3m\u001b[90m<dbl>\u001b[39m\u001b[23m 0.0000, 211.7871, 192.3324, 204.8778, 209.1278, 183.3635,…\n",
      "$ distalong   \u001b[3m\u001b[90m<dbl>\u001b[39m\u001b[23m 0.0000, 211.7871, 404.1196, 608.9974, 818.1252, 1001.4887…\n",
      "$ depth_mean  \u001b[3m\u001b[90m<dbl>\u001b[39m\u001b[23m 68.43658, 68.25401, 68.22956, 68.10563, 68.14753, 67.7444…\n",
      "$ depth_plot  \u001b[3m\u001b[90m<dbl>\u001b[39m\u001b[23m 68.43658, 68.25401, 68.22956, 68.10563, 68.14753, 67.7444…\n"
     ]
    }
   ],
   "source": [
    "# Join the bottom intervals data to the acoustic data\n",
    "data_sbf_full <- Sv_sbf %>%\n",
    "  select(-tm_interval) %>%\n",
    "  left_join(bottom_intervals, by = c(\"sp_interval\" = \"trkln_interval\")) %>% \n",
    "  mutate(depth_plot = ifelse(depth_mean >= 250, 250, depth_mean))\n",
    "\n",
    "# Glimpse the data \n",
    "glimpse(data_sbf_full)"
   ]
  },
  {
   "cell_type": "markdown",
   "metadata": {},
   "source": [
    "# 11. Putting it all together\n",
    "\n",
    "Woohoo! This has been a lot of data wrangling, but we're almost done. It's time to plot the mean volume backscatter in relation to the bathymetry (depth) along the track line. Because our y-axes are on two different scales, we'll create two plots and use a function from grid.arrange() again to put them in one figure."
   ]
  },
  {
   "cell_type": "code",
   "execution_count": 59,
   "metadata": {},
   "outputs": [
    {
     "data": {
      "image/png": "[encoded data removed]",
      "text/plain": [
       "plot without title"
      ]
     },
     "metadata": {},
     "output_type": "display_data"
    }
   ],
   "source": [
    "# Top panel - assign the Sv plot\n",
    "Sv_mean_plot <- ggplot(data_sbf_full, aes( x = distalong, y = Sv_mean)) +\n",
    "  geom_line( size = 0.5) +\n",
    "  labs(y=expression(mean~volume~backscatter~S[v]~(dB))) +\n",
    "  theme(axis.title.x=element_blank())\n",
    "\n",
    "# Bottom panel - assign the bathymetry plot\n",
    "bthy <- ggplot(data_sbf_full, aes( x = distalong , y = depth_plot )) +\n",
    "  geom_line(size = 0.5) +\n",
    "  scale_y_reverse()+\n",
    "  labs(x = \"Distance along trackline (m)\", y = \"Depth (m)\")\n",
    "\n",
    "# Display the two panels in one figure\n",
    "grid.arrange(Sv_mean_plot, bthy)"
   ]
  },
  {
   "cell_type": "markdown",
   "metadata": {},
   "source": [
    "# 12. So, where are the fishes?\n",
    "\n",
    "If we assume that all the backscatter energy is only from fishes with swim bladders, and greater backscatter indicates higher densities of fish, most of the fish on this track line are on the Shelf."
   ]
  },
  {
   "cell_type": "code",
   "execution_count": null,
   "metadata": {},
   "outputs": [],
   "source": []
  }
 ],
 "metadata": {
  "kernelspec": {
   "display_name": "R",
   "language": "R",
   "name": "ir"
  },
  "language_info": {
   "codemirror_mode": "r",
   "file_extension": ".r",
   "mimetype": "text/x-r-source",
   "name": "R",
   "pygments_lexer": "r",
   "version": "3.4.4"
  }
 },
 "nbformat": 4,
 "nbformat_minor": 2
}
